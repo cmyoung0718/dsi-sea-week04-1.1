{
 "cells": [
  {
   "cell_type": "markdown",
   "metadata": {
    "button": false,
    "deletable": true,
    "new_sheet": false,
    "run_control": {
     "read_only": false
    }
   },
   "source": [
    "<img src=\"http://static.tvtropes.org/pmwiki/pub/images/acslatersitting_1267.jpg\" alt=\"Title\"/>"
   ]
  },
  {
   "cell_type": "markdown",
   "metadata": {
    "button": false,
    "deletable": true,
    "new_sheet": false,
    "run_control": {
     "read_only": false
    }
   },
   "source": [
    "# Hey there fellow student. Come closer. I want to jive with you for a second."
   ]
  },
  {
   "cell_type": "code",
   "execution_count": 2,
   "metadata": {
    "button": false,
    "collapsed": true,
    "deletable": true,
    "new_sheet": false,
    "run_control": {
     "read_only": false
    }
   },
   "outputs": [],
   "source": [
    "# Take a close look at this string!\n",
    "\n",
    "stringy = \"<div> Address: 1234 Fake Lane, FakeFake Faketown New Jersey, 90048 </div>\"\n",
    "\n",
    "# Wouldn't it be nice to easily find information in strings like this?"
   ]
  },
  {
   "cell_type": "markdown",
   "metadata": {
    "button": false,
    "deletable": true,
    "new_sheet": false,
    "run_control": {
     "read_only": false
    }
   },
   "source": [
    "## Well now you can! With regular expressions, you can quickly search through large amounts of data with a simple set of rules! Let's dig in! "
   ]
  },
  {
   "cell_type": "markdown",
   "metadata": {
    "button": false,
    "deletable": true,
    "new_sheet": false,
    "run_control": {
     "read_only": false
    }
   },
   "source": [
    "<img src=\"http://37.media.tumblr.com/tumblr_m8tx99Cu2x1rdutw3o1_500.gif\" alt=\"Title\" style=\"width: 250px\"/>"
   ]
  },
  {
   "cell_type": "code",
   "execution_count": 5,
   "metadata": {
    "button": false,
    "collapsed": false,
    "deletable": true,
    "new_sheet": false,
    "run_control": {
     "read_only": false
    }
   },
   "outputs": [
    {
     "name": "stdout",
     "output_type": "stream",
     "text": [
      "<\n"
     ]
    }
   ],
   "source": [
    "import re\n",
    "\n",
    "# The . matches any character except a newline (\\n)\n",
    "m = re.search('.', stringy)\n",
    "\n",
    "# m.group() contains an array of all of our matches. I wonder what this does...\n",
    "print m.group()"
   ]
  },
  {
   "cell_type": "code",
   "execution_count": 6,
   "metadata": {
    "button": false,
    "collapsed": false,
    "deletable": true,
    "new_sheet": false,
    "run_control": {
     "read_only": false
    }
   },
   "outputs": [
    {
     "name": "stdout",
     "output_type": "stream",
     "text": [
      "<di\n"
     ]
    }
   ],
   "source": [
    "# The ^ matches the start of a string\n",
    "m = re.search('^...', stringy)\n",
    "\n",
    "# Try to guess. What will this print?\n",
    "print m.group()"
   ]
  },
  {
   "cell_type": "code",
   "execution_count": 7,
   "metadata": {
    "button": false,
    "collapsed": false,
    "deletable": true,
    "new_sheet": false,
    "run_control": {
     "read_only": false
    }
   },
   "outputs": [
    {
     "name": "stdout",
     "output_type": "stream",
     "text": [
      "iv>\n"
     ]
    }
   ],
   "source": [
    "# Gnarly dude! You've got this down! Let's add some more!\n",
    "# The $ matches the end of a string\n",
    "m = re.search('...$', stringy)\n",
    "\n",
    "# Try to guess. What will this print?\n",
    "print m.group()"
   ]
  },
  {
   "cell_type": "code",
   "execution_count": 9,
   "metadata": {
    "button": false,
    "collapsed": false,
    "deletable": true,
    "new_sheet": false,
    "run_control": {
     "read_only": false
    }
   },
   "outputs": [
    {
     "name": "stdout",
     "output_type": "stream",
     "text": [
      "<div> Address: 1234 Fake Lane, FakeFake Faketown New Jersey, 90048 </div>\n"
     ]
    }
   ],
   "source": [
    "# The * matches 0 to many repetitions of a string\n",
    "m = re.search('<div>.*x*', stringy)\n",
    "\n",
    "# Try to guess. What will this print?\n",
    "print m.group()"
   ]
  },
  {
   "cell_type": "code",
   "execution_count": 10,
   "metadata": {
    "button": false,
    "collapsed": false,
    "deletable": true,
    "new_sheet": false,
    "run_control": {
     "read_only": false
    }
   },
   "outputs": [
    {
     "name": "stdout",
     "output_type": "stream",
     "text": [
      "<div> Address: 1234 Fake Lane, FakeFake Fake\n"
     ]
    }
   ],
   "source": [
    "# The + matches 1 - many repetitions of a string\n",
    "# The last time it sees Fake, it stops printing\n",
    "m = re.search('<div>.*Fake+', stringy)\n",
    "\n",
    "# Try to guess. What will this print?\n",
    "print m.group()"
   ]
  },
  {
   "cell_type": "code",
   "execution_count": 11,
   "metadata": {
    "button": false,
    "collapsed": false,
    "deletable": true,
    "new_sheet": false,
    "run_control": {
     "read_only": false
    }
   },
   "outputs": [
    {
     "name": "stdout",
     "output_type": "stream",
     "text": [
      "<div> Address: 1234 Fake Lane, FakeFake Fake\n",
      "<div> Address: 1234 Fake\n"
     ]
    }
   ],
   "source": [
    "# The ? matches 0 - 1 repetitions of a string\n",
    "m = re.search('.*Fake?', stringy)\n",
    "\n",
    "# Try to guess. What will this print?\n",
    "print m.group()\n",
    "\n",
    "# If you combine it with the . and * rules, you can return the first instance of a pattern match\n",
    "m = re.search('(.*?)Fake', stringy)\n",
    "\n",
    "# Try to guess. What will this print?\n",
    "print m.group()"
   ]
  },
  {
   "cell_type": "code",
   "execution_count": 12,
   "metadata": {
    "button": false,
    "collapsed": false,
    "deletable": true,
    "new_sheet": false,
    "run_control": {
     "read_only": false
    }
   },
   "outputs": [
    {
     "name": "stdout",
     "output_type": "stream",
     "text": [
      "Fake Lane, FakeFake Faketown New Jersey, 90048 </div>\n"
     ]
    }
   ],
   "source": [
    "# Use () to find whole words, phrases, or regexs\n",
    "m = re.search('(Fake)? Lane.*', stringy)\n",
    "\n",
    "# Try to guess. What will this print?\n",
    "print m.group()"
   ]
  },
  {
   "cell_type": "code",
   "execution_count": 14,
   "metadata": {
    "button": false,
    "collapsed": false,
    "deletable": true,
    "new_sheet": false,
    "run_control": {
     "read_only": false
    }
   },
   "outputs": [
    {
     "name": "stdout",
     "output_type": "stream",
     "text": [
      "<div> Address: 1234 Fake Lane, FakeFake\n"
     ]
    }
   ],
   "source": [
    "# This regex: Fake{2,3} matches 2 to 3 copies (double or triple) of the preceding string\n",
    "m = re.search('.*(Fake){2,3}', stringy)\n",
    "\n",
    "# Try to guess. What will this print?\n",
    "print m.group()"
   ]
  },
  {
   "cell_type": "code",
   "execution_count": 17,
   "metadata": {
    "button": false,
    "collapsed": false,
    "deletable": true,
    "new_sheet": false,
    "run_control": {
     "read_only": false
    }
   },
   "outputs": [
    {
     "name": "stdout",
     "output_type": "stream",
     "text": [
      "<div> Address: 1234 Fake Lane, FakeFak\n",
      "FakeFak\n"
     ]
    }
   ],
   "source": [
    "# Use [] to indicate a set of characters\n",
    "m = re.search('.*?FakeF[a-z]{2}?', stringy)\n",
    "\n",
    "# Try to guess. What will this print?\n",
    "print m.group()\n",
    "\n",
    "m = re.search('FakeF[a-z]{2}?', stringy)\n",
    "\n",
    "# Try to guess. What will this print?\n",
    "print m.group()"
   ]
  },
  {
   "cell_type": "code",
   "execution_count": 19,
   "metadata": {
    "button": false,
    "collapsed": false,
    "deletable": true,
    "new_sheet": false,
    "run_control": {
     "read_only": false
    }
   },
   "outputs": [
    {
     "name": "stdout",
     "output_type": "stream",
     "text": [
      "FakeF\n",
      "<div> Address: 1234 Fake Lane, FakeFake Faket\n"
     ]
    }
   ],
   "source": [
    "# Use | to denote \"or\" expressions\n",
    "m = re.search('Fake[F|t]', stringy)\n",
    "\n",
    "# Try to guess. What will this print?\n",
    "print m.group()\n",
    "\n",
    "m = re.search('.*Fake[F|t]?', stringy)\n",
    "\n",
    "# Try to guess. What will this print?\n",
    "print m.group()"
   ]
  },
  {
   "cell_type": "code",
   "execution_count": 20,
   "metadata": {
    "button": false,
    "collapsed": false,
    "deletable": true,
    "new_sheet": false,
    "run_control": {
     "read_only": false
    }
   },
   "outputs": [
    {
     "name": "stdout",
     "output_type": "stream",
     "text": [
      "4 Fake L\n"
     ]
    }
   ],
   "source": [
    "# \\b: matches empty string at beginning or end of word\n",
    "m = re.search('..\\b*Fake\\b*..', stringy)\n",
    "\n",
    "# Try to guess. What will this print?\n",
    "print m.group()"
   ]
  },
  {
   "cell_type": "code",
   "execution_count": 21,
   "metadata": {
    "button": false,
    "collapsed": false,
    "deletable": true,
    "new_sheet": false,
    "run_control": {
     "read_only": false
    }
   },
   "outputs": [
    {
     "name": "stdout",
     "output_type": "stream",
     "text": [
      "1234\n"
     ]
    }
   ],
   "source": [
    "# \\d: matches a digit character\n",
    "m = re.search('\\d+', stringy)\n",
    "\n",
    "# Try to guess. What will this print?\n",
    "print m.group()"
   ]
  },
  {
   "cell_type": "code",
   "execution_count": 32,
   "metadata": {
    "button": false,
    "collapsed": false,
    "deletable": true,
    "new_sheet": false,
    "run_control": {
     "read_only": false
    }
   },
   "outputs": [
    {
     "name": "stdout",
     "output_type": "stream",
     "text": [
      "<div> Address: \n"
     ]
    }
   ],
   "source": [
    "# \\d: matches a non-digit character\n",
    "m = re.search('\\D+', stringy)\n",
    "\n",
    "# Try to guess. What will this print?\n",
    "print m.group()"
   ]
  },
  {
   "cell_type": "code",
   "execution_count": 28,
   "metadata": {
    "button": false,
    "collapsed": false,
    "deletable": true,
    "new_sheet": false,
    "run_control": {
     "read_only": false
    }
   },
   "outputs": [
    {
     "name": "stdout",
     "output_type": "stream",
     "text": [
      "v> Ad\n"
     ]
    }
   ],
   "source": [
    "# \\s: matches any whitespace character\n",
    "m = re.search('..\\s+..', stringy)\n",
    "\n",
    "# Two characters on each side of first whitespace\n",
    "# Try to guess. What will this print?\n",
    "print m.group()"
   ]
  },
  {
   "cell_type": "code",
   "execution_count": 35,
   "metadata": {
    "button": false,
    "collapsed": false,
    "deletable": true,
    "new_sheet": false,
    "run_control": {
     "read_only": false
    }
   },
   "outputs": [
    {
     "name": "stdout",
     "output_type": "stream",
     "text": [
      "<div>\n"
     ]
    }
   ],
   "source": [
    "# \\S: matches any non-whitespace character\n",
    "m = re.search('\\S+', stringy)\n",
    "\n",
    "# Try to guess. What will this print?\n",
    "print m.group()"
   ]
  },
  {
   "cell_type": "code",
   "execution_count": 36,
   "metadata": {
    "button": false,
    "collapsed": false,
    "deletable": true,
    "new_sheet": false,
    "run_control": {
     "read_only": false
    }
   },
   "outputs": [
    {
     "name": "stdout",
     "output_type": "stream",
     "text": [
      "div\n"
     ]
    }
   ],
   "source": [
    "# \\w: matches any alphanumeric character\n",
    "m = re.search('\\w+', stringy)\n",
    "\n",
    "# Try to guess. What will this print?\n",
    "print m.group()"
   ]
  },
  {
   "cell_type": "code",
   "execution_count": 37,
   "metadata": {
    "button": false,
    "collapsed": false,
    "deletable": true,
    "new_sheet": false,
    "run_control": {
     "read_only": false
    }
   },
   "outputs": [
    {
     "name": "stdout",
     "output_type": "stream",
     "text": [
      "<\n"
     ]
    }
   ],
   "source": [
    "# \\W: matches any non-alphanumeric character\n",
    "m = re.search('\\W+', stringy)\n",
    "\n",
    "# Try to guess. What will this print?\n",
    "print m.group()"
   ]
  },
  {
   "cell_type": "code",
   "execution_count": 38,
   "metadata": {
    "button": false,
    "collapsed": false,
    "deletable": true,
    "new_sheet": false,
    "run_control": {
     "read_only": false
    }
   },
   "outputs": [
    {
     "name": "stdout",
     "output_type": "stream",
     "text": [
      "['FakeFake ', 'Faketown ']\n"
     ]
    }
   ],
   "source": [
    "# Use findall to return all results\n",
    "m = re.findall('Fake\\w+\\s?', stringy)\n",
    "\n",
    "# Try to guess. What will this print?\n",
    "print m"
   ]
  },
  {
   "cell_type": "markdown",
   "metadata": {
    "button": false,
    "deletable": true,
    "new_sheet": false,
    "run_control": {
     "read_only": false
    }
   },
   "source": [
    "<img src=\"http://31.media.tumblr.com/b495222ee1e2df2b1a478c2d5a58df5f/tumblr_mlfep4fByu1rd6wt2o1_500.gif\" alt=\"Title\" style=\"width: 250px\"/>"
   ]
  },
  {
   "cell_type": "markdown",
   "metadata": {
    "button": false,
    "deletable": true,
    "new_sheet": false,
    "run_control": {
     "read_only": false
    }
   },
   "source": [
    "### You're gnarly bro! Let's generate some data! Run the next cell."
   ]
  },
  {
   "cell_type": "code",
   "execution_count": 43,
   "metadata": {
    "button": false,
    "collapsed": false,
    "deletable": true,
    "new_sheet": false,
    "run_control": {
     "read_only": false
    }
   },
   "outputs": [
    {
     "name": "stdout",
     "output_type": "stream",
     "text": [
      "escadrille gunshot gloomy highhanded saffron eighteenth optoacoustic bottlecap length cockroach abdo\n"
     ]
    }
   ],
   "source": [
    "import requests\n",
    "import random\n",
    "import numpy as np\n",
    "\n",
    "word_site = \"http://svnweb.freebsd.org/csrg/share/dict/words?view=co&content-type=text/plain\"\n",
    "\n",
    "response = requests.get(word_site)\n",
    "WORDS = response.content.splitlines()\n",
    "not_proper = [word for word in WORDS if not word[0].isupper()]\n",
    "\n",
    "class formWords:\n",
    "    def __init__(self, not_proper):\n",
    "        self.not_proper = not_proper\n",
    "\n",
    "    def randomNonProper(self):\n",
    "        return self.not_proper[np.random.randint(0,len(self.not_proper))]\n",
    "        \n",
    "    def generateText(self, blog_length):\n",
    "        blog = []\n",
    "        for x in range(blog_length):\n",
    "            blog += [self.randomNonProper()]\n",
    "    \n",
    "        return \" \".join(blog)\n",
    "\n",
    "words = formWords(not_proper)\n",
    "\n",
    "#This is the data variable\n",
    "data = words.generateText(500)\n",
    "print data[:100]"
   ]
  },
  {
   "cell_type": "markdown",
   "metadata": {
    "button": false,
    "deletable": true,
    "new_sheet": false,
    "run_control": {
     "read_only": false
    }
   },
   "source": [
    "### Good golly! That sure is alot of data. Hopefully regular expressions can help us through this jam..."
   ]
  },
  {
   "cell_type": "code",
   "execution_count": 71,
   "metadata": {
    "button": false,
    "collapsed": false,
    "deletable": true,
    "new_sheet": false,
    "run_control": {
     "read_only": false
    }
   },
   "outputs": [
    {
     "name": "stdout",
     "output_type": "stream",
     "text": [
      "['yeoman', 'emancipate', 'manufacture', 'selectman', 'woman']\n"
     ]
    }
   ],
   "source": [
    "# Find all the words with 'man' in them\n",
    "m = re.findall('\\w*man\\w*', data)\n",
    "\n",
    "# Try to guess. What will this print?\n",
    "print m"
   ]
  },
  {
   "cell_type": "code",
   "execution_count": 76,
   "metadata": {
    "button": false,
    "collapsed": false,
    "deletable": true,
    "new_sheet": false,
    "run_control": {
     "read_only": false
    }
   },
   "outputs": [
    {
     "name": "stdout",
     "output_type": "stream",
     "text": [
      "[' abdomen', ' apparent', ' admiral', ' armada', ' airspeed', ' aboriginal', ' already', ' advertise', ' apse', ' abetted', ' abrogate', ' aircraft', ' ampere', ' afire', ' appear', ' aborning', ' ammonia', ' avert', ' auxin', ' animosity', ' architecture', ' abort', ' affricate', ' aerodynamic', ' acidify', ' applicate', ' augmentation', ' adaptive', ' abort', ' anagram', ' agrimony', ' afar', ' auxiliary', ' announce', ' achromatic', ' aggressor', ' alien', ' agglomerate', ' auger', ' approximable', ' astigmatic', ' aide']\n"
     ]
    }
   ],
   "source": [
    "# Find all the words that begin with an 'a'\n",
    "m = re.findall('\\s+a\\w*', data)\n",
    "print m"
   ]
  },
  {
   "cell_type": "code",
   "execution_count": 84,
   "metadata": {
    "button": false,
    "collapsed": false,
    "deletable": true,
    "new_sheet": false,
    "run_control": {
     "read_only": false
    }
   },
   "outputs": [
    {
     "name": "stdout",
     "output_type": "stream",
     "text": [
      "['bottlecap', 'cockroach', 'wonder', 'coldhearted', 'conquistador', 'coterie', 'home', 'locale', 'conduct', 'fold', 'woodwork', 'coffeecup', 'coachmen', 'togs', 'rope', 'nod', 'powerhouse', 'cosine', 'boy', 'postposition', 'coat', 'cohomology', 'polis', 'mockup', 'foamy', 'committeemen', 'zounds', 'forbidden', 'noose', 'corpse', 'motion', 'totalitarian', 'combinate', 'koala', 'bookshelves', 'lox', 'pomade', 'ton', 'roughish', 'combatant', 'loot', 'compressor', 'bottle', 'concept', 'corny', 'pope', 'consequent', 'boreal', 'solidify', 'cod', 'possessive', 'hondo', 'compound', 'boggy', 'corrupt', 'consecrate', 'horn', 'condemnate', 'boatmen', 'forgone', 'forbear', 'woman', 'conductor', 'cosy', 'pool', 'cowpoke', 'sommelier']\n"
     ]
    }
   ],
   "source": [
    "# Find all the words with an 'o' as the second letter\n",
    "m = re.findall('\\s(.o\\w*)', data)\n",
    "print m"
   ]
  },
  {
   "cell_type": "code",
   "execution_count": 97,
   "metadata": {
    "button": false,
    "collapsed": false,
    "deletable": true,
    "new_sheet": false,
    "run_control": {
     "read_only": false
    }
   },
   "outputs": [
    {
     "name": "stdout",
     "output_type": "stream",
     "text": [
      "['optoacoustic', 'bottlecap', 'abdomen', 'beater', 'naturopath', 'apparent', 'crucifix', 'stadia', 'lifeblood', 'exclamatory', 'venturesome', 'yeoman', 'admiral', 'pipetting', 'cuneiform', 'unite', 'armada', 'interlude', 'epileptic', 'oval', 'semester', 'jake', 'titanate', 'lifeblood', 'transcribe', 'occidental', 'tiger', 'styrene', 'radioactive', 'aboriginal', 'skater', 'upstater', 'decorum', 'producible', 'grater', 'quorum', 'carol', 'tripe', 'evangelic', 'oxide', 'conquistador', 'thousandfold', 'coterie', 'ovenbird', 'advertise', 'quadrupedal', 'there', 'home', 'eutectic', 'euphemist', 'indelicate', 'locale', 'diatomic', 'abetted', 'bagatelle', 'sequent', 'elephant', 'schemata', 'abrogate', 'vise', 'quasiparticle', 'buret', 'jeopard', 'filial', 'coffeecup', 'pianist', 'exegete', 'propos', 'fluke', 'predilect', 'nuisance', 'echelon', 'oncoming', 'vital', 'rope', 'cloaca', 'character', 'inescapable', 'powerhouse', 'ampere', 'afire', 'dubitable', 'deputy', 'tabular', 'cosine', 'epistemology', 'postposition', 'emancipate', 'manufacture', 'quagmire', 'aborning', 'diffusible', 'retard', 'cohomology', 'leviathan', 'fireplace', 'ammonia', 'polis', 'avert', 'spume', 'sidetrack', 'vulture', 'glacier', 'mediate', 'indelicate', 'parliamentary', 'spate', 'committeemen', 'sweeten', 'auxin', 'deprecatory', 'animosity', 'layup', 'prothonotary', 'emigree', 'quadrangular', 'supreme', 'noose', 'hierarchic', 'racketeer', 'architecture', 'neurophysiology', 'abort', 'ceramic', 'stargaze', 'motion', 'riflemen', 'immoderate', 'there', 'linoleic', 'biplane', 'affricate', 'magnesite', 'pietism', 'totalitarian', 'regent', 'combinate', 'declaratory', 'spire', 'suburb', 'koala', 'aerodynamic', 'acidify', 'case', 'barbudo', 'esoteric', 'difluoride', 'weaponry', 'palisade', 'salami', 'desist', 'relief', 'applicate', 'grotesque', 'eater', 'jute', 'exasperater', 'pomade', 'chromosphere', 'augmentation', 'hermitage', 'hare', 'trichloroacetic', 'open', 'textile', 'livery', 'adaptive', 'combatant', 'bravura', 'oligoclase', 'lunatic', 'sevenfold', 'nemesis', 'abort', 'risible', 'piracy', 'anagram', 'impunity', 'shorefront', 'tale', 'elect', 'intimater', 'agrimony', 'seventeen', 'venereal', 'inelegant', 'afar', 'luggage', 'dysprosium', 'auxiliary', 'grammarian', 'gigahertz', 'region', 'pope', 'consequent', 'boreal', 'reversible', 'immodest', 'newspaper', 'solidify', 'involutorial', 'quasi', 'meadowland', 'storage', 'selectman', 'theses', 'grope', 'mayapple', 'creditor', 'sequel', 'fugitive', 'ruse', 'possessive', 'pentane', 'fluoresce', 'reversible', 'achromatic', 'enthusiasm', 'militant', 'alien', 'raisin', 'obedient', 'sloven', 'consecrate', 'fetid', 'blazon', 'medic', 'base', 'condemnate', 'supremum', 'exercisable', 'agglomerate', 'reserpine', 'forgone', 'nasal', 'declivity', 'auger', 'freedom', 'buoyant', 'parental', 'case', 'deterrent', 'geophysical', 'primate', 'glomerular', 'tenet', 'woman', 'hardwire', 'genie', 'chide', 'enzymatic', 'approximable', 'astigmatic', 'inarticulate', 'enumerable', 'lunary', 'aide', 'burette', 'caliph', 'calculi', 'freestone', 'game', 'sulfuric', 'quota', 'placeholder', 'cowpoke', 'sommelier', 'globular', 'cholera', 'malign']\n"
     ]
    }
   ],
   "source": [
    "# Find all the words with vowels surrounding one consonant\n",
    "m = re.findall('\\s+(\\w*[aeiou][b-df-hj-np-tv-z][aeiou]\\w*)', data)\n",
    "print m"
   ]
  },
  {
   "cell_type": "code",
   "execution_count": 121,
   "metadata": {
    "button": false,
    "collapsed": false,
    "deletable": true,
    "new_sheet": false,
    "run_control": {
     "read_only": false
    }
   },
   "outputs": [
    {
     "name": "stdout",
     "output_type": "stream",
     "text": [
      "['exclamatory', 'upstater', 'architecture', 'affricate', 'applicate', 'unction', 'achromatic', 'aggressor', 'enthusiasm', 'agglomerate', 'approximable']\n"
     ]
    }
   ],
   "source": [
    "# Find all the words with three consecutive consonants\n",
    "m = re.findall('\\s+([aeiou][b-df-hj-np-tv-z]{3}[aeiou]\\w*)', data)\n",
    "print m"
   ]
  },
  {
   "cell_type": "code",
   "execution_count": 104,
   "metadata": {
    "button": false,
    "collapsed": false,
    "deletable": true,
    "new_sheet": false,
    "run_control": {
     "read_only": false
    },
    "scrolled": true
   },
   "outputs": [
    {
     "name": "stdout",
     "output_type": "stream",
     "text": [
      "['unite', 'interlude', 'ounce', 'oxide', 'advertise', 'apse', 'indelicate', 'abrogate', 'exegete', 'indispensable', 'impasse', 'inescapable', 'ampere', 'emancipate', 'ammonia', 'indelicate', 'emigree', 'architecture', 'immoderate', 'affricate', 'applicate', 'adaptive', 'oligoclase', 'announce', 'exercisable', 'enviable', 'approximable', 'inarticulate', 'aide']\n"
     ]
    }
   ],
   "source": [
    "# Find all the words that begin and end with a vowel\n",
    "m = re.findall('\\s([aeiou]\\w*[aeiou])\\s', data)\n",
    "print m"
   ]
  },
  {
   "cell_type": "code",
   "execution_count": 135,
   "metadata": {
    "button": false,
    "collapsed": false,
    "deletable": true,
    "new_sheet": false,
    "run_control": {
     "read_only": false
    }
   },
   "outputs": [
    {
     "name": "stdout",
     "output_type": "stream",
     "text": [
      "['saffron eighteenth', 'cockroach abdomen', 'naturopath apparent', 'lifeblood exclamatory', 'yeoman admiral', 'cuneiform unite', 'tau interlude', 'smear oval', 'frosty occidental', 'blackbird ounce', 'styrene airspeed', 'peek aboriginal', 'v upstater', 'tripe evangelic', 'linguist ovenbird', 'there extort', 'piggy apse', 'schoolwork eutectic', 'nightgown euphemist', 'microscopy indelicate', 'diatomic abetted', 'sequent elephant', 'schemata abrogate', 'hurty exegete', 'garlic indispensable', 'nuisance echelon', 'vital impasse', 'sachem effectual', 'character inescapable', 'tax aircraft', 'sulphur ampere', 'cosine epistemology', 'bask appear', 'stub emancipate', 'quagmire aborning', 'narwhal ammonia', 'polis avert', 'mediate indelicate', 'sweeten auxin', 'deprecatory animosity', 'prothonotary unchristian', 'noose only', 'synopses architecture', 'transmittal abort', 'riflemen immoderate', 'biplane encumber', 'koala aerodynamic', 'barbudo esoteric', 'relief applicate', 'lox eater', 'jute exasperater', 'barrow augmentation', 'trichloroacetic open', 'livery adaptive', 'vii unction', 'loot oligoclase', 'nemesis abort', 'piracy anagram', 'trick impunity', 'haunt elect', 'slat agrimony', 'venereal inelegant', 'lip afar', 'dysprosium auxiliary', 'throb insolvent', 'consequent intellectual', 'reversible immodest', 'solidify involutorial', 'cufflink announce', 'mild achromatic', 'mention enthusiasm', 'militant alien', 'raisin obedient', 'king exercisable', 'handle enviable', 'beplaster auger', 'gutsy enzymatic', 'suds approximable', 'sassafras inarticulate', 'pool aide']\n"
     ]
    }
   ],
   "source": [
    "# Find two words such that the first begins with a consonant and the second begins with a vowel\n",
    "m = re.findall('\\s+([b-df-hj-np-tv-z]\\w*\\s+[aeiou]\\w*)', data)\n",
    "print m\n"
   ]
  },
  {
   "cell_type": "code",
   "execution_count": null,
   "metadata": {
    "button": false,
    "collapsed": true,
    "deletable": true,
    "new_sheet": false,
    "run_control": {
     "read_only": false
    }
   },
   "outputs": [],
   "source": []
  }
 ],
 "metadata": {
  "anaconda-cloud": {},
  "kernelspec": {
   "display_name": "Python [Root]",
   "language": "python",
   "name": "Python [Root]"
  },
  "language_info": {
   "codemirror_mode": {
    "name": "ipython",
    "version": 2
   },
   "file_extension": ".py",
   "mimetype": "text/x-python",
   "name": "python",
   "nbconvert_exporter": "python",
   "pygments_lexer": "ipython2",
   "version": "2.7.12"
  }
 },
 "nbformat": 4,
 "nbformat_minor": 0
}
